{
 "cells": [
  {
   "cell_type": "markdown",
   "metadata": {},
   "source": [
    "# 1 문제"
   ]
  },
  {
   "cell_type": "code",
   "execution_count": null,
   "metadata": {},
   "outputs": [],
   "source": [
    "숫자를 포함한 리스트가 존재한다.\n",
    "이 리스트와 list, filter, lambda, map 네 가지 함수를 모두 이용해서,\n",
    "특정 값보다 큰 수만 남긴 후에 2를 곱해서 새로운 리스트에 저장해서 출력하는 코드를 작성"
   ]
  },
  {
   "cell_type": "markdown",
   "metadata": {},
   "source": [
    "# 2 문제"
   ]
  },
  {
   "cell_type": "code",
   "execution_count": null,
   "metadata": {},
   "outputs": [],
   "source": [
    "리스트 안에 파일명을 포함한 텍스트가 존재한다. \n",
    "그 중 png를 포함한 문자열만 포함하는 코드를 작성하시오\n",
    "#  li=['1.doc','2.jpg','3.png','4.xlsx','5.png','6.jpg','7.doc']"
   ]
  },
  {
   "cell_type": "markdown",
   "metadata": {},
   "source": [
    "# solve"
   ]
  },
  {
   "cell_type": "code",
   "execution_count": null,
   "metadata": {},
   "outputs": [],
   "source": [
    "num_list = [1, 38, 23, 9, 5, 2]\n",
    "new=(filter(lambda x:x>20, num_list))\n",
    "new_list=list(map(lambda x:x*2,new))\n",
    "new_list"
   ]
  },
  {
   "cell_type": "code",
   "execution_count": null,
   "metadata": {},
   "outputs": [],
   "source": [
    "li=['1.doc','2.jpg','3.png','4.xlsx','5.png','6.jpg','7.doc']\n",
    "list(filter(lambda x:'png' in x,li))"
   ]
  }
 ],
 "metadata": {
  "kernelspec": {
   "display_name": "Python 3",
   "language": "python",
   "name": "python3"
  },
  "language_info": {
   "codemirror_mode": {
    "name": "ipython",
    "version": 3
   },
   "file_extension": ".py",
   "mimetype": "text/x-python",
   "name": "python",
   "nbconvert_exporter": "python",
   "pygments_lexer": "ipython3",
   "version": "3.8.5"
  }
 },
 "nbformat": 4,
 "nbformat_minor": 4
}
